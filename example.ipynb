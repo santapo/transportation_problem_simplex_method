{
 "cells": [
  {
   "cell_type": "code",
   "execution_count": null,
   "metadata": {},
   "outputs": [],
   "source": [
    "supply = [40, 30]\n",
    "demand = [30, 50]\n",
    "costs = [\n",
    "    [3, 4],\n",
    "    [2, 4]\n",
    "]\n",
    "penalties = [3, 1]"
   ]
  },
  {
   "cell_type": "code",
   "execution_count": null,
   "metadata": {},
   "outputs": [],
   "source": [
    "supply = [30, 70, 50]\n",
    "demand = [40, 30, 40, 40]\n",
    "bfs = north_west_corner(supply, demand)\n",
    "print(bfs)"
   ]
  }
 ],
 "metadata": {
  "kernelspec": {
   "display_name": "Python 3",
   "language": "python",
   "name": "python3"
  },
  "language_info": {
   "codemirror_mode": {
    "name": "ipython",
    "version": 3
   },
   "file_extension": ".py",
   "mimetype": "text/x-python",
   "name": "python",
   "nbconvert_exporter": "python",
   "pygments_lexer": "ipython3",
   "version": "3.7.6"
  }
 },
 "nbformat": 4,
 "nbformat_minor": 4
}
